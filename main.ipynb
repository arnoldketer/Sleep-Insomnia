{
 "cells": [
  {
   "cell_type": "markdown",
   "metadata": {},
   "source": [
    "## Import libraries"
   ]
  },
  {
   "cell_type": "code",
   "execution_count": 2,
   "metadata": {},
   "outputs": [],
   "source": [
    "import pandas as pd\n",
    "import matplotlib.pyplot as plt\n",
    "import seaborn as sns"
   ]
  },
  {
   "cell_type": "markdown",
   "metadata": {},
   "source": [
    "## Data Analysis"
   ]
  },
  {
   "cell_type": "code",
   "execution_count": 3,
   "metadata": {},
   "outputs": [
    {
     "name": "stdout",
     "output_type": "stream",
     "text": [
      "   Person ID Gender  Age            Occupation  Sleep Duration  \\\n",
      "0          1   Male   27     Software Engineer             6.1   \n",
      "1          2   Male   28                Doctor             6.2   \n",
      "2          3   Male   28                Doctor             6.2   \n",
      "3          4   Male   28  Sales Representative             5.9   \n",
      "4          5   Male   28  Sales Representative             5.9   \n",
      "\n",
      "   Quality of Sleep  Physical Activity Level  Stress Level BMI Category  \\\n",
      "0                 6                       42             6   Overweight   \n",
      "1                 6                       60             8       Normal   \n",
      "2                 6                       60             8       Normal   \n",
      "3                 4                       30             8        Obese   \n",
      "4                 4                       30             8        Obese   \n",
      "\n",
      "  Blood Pressure  Heart Rate  Daily Steps Sleep Disorder  \n",
      "0         126/83          77         4200           None  \n",
      "1         125/80          75        10000           None  \n",
      "2         125/80          75        10000           None  \n",
      "3         140/90          85         3000    Sleep Apnea  \n",
      "4         140/90          85         3000    Sleep Apnea  \n"
     ]
    }
   ],
   "source": [
    "sleep_data= pd.read_csv(r'C:/Users/DELL/OneDrive/Desktop/Sleep Insomnia/Sleep-Insomnia/Sleep_health_and_lifestyle_dataset.csv')\n",
    "print(sleep_data.head())"
   ]
  },
  {
   "cell_type": "code",
   "execution_count": 7,
   "metadata": {},
   "outputs": [
    {
     "name": "stdout",
     "output_type": "stream",
     "text": [
      "<class 'pandas.core.frame.DataFrame'>\n",
      "RangeIndex: 374 entries, 0 to 373\n",
      "Data columns (total 13 columns):\n",
      " #   Column                   Non-Null Count  Dtype  \n",
      "---  ------                   --------------  -----  \n",
      " 0   Person ID                374 non-null    int64  \n",
      " 1   Gender                   374 non-null    object \n",
      " 2   Age                      374 non-null    int64  \n",
      " 3   Occupation               374 non-null    object \n",
      " 4   Sleep Duration           374 non-null    float64\n",
      " 5   Quality of Sleep         374 non-null    int64  \n",
      " 6   Physical Activity Level  374 non-null    int64  \n",
      " 7   Stress Level             374 non-null    int64  \n",
      " 8   BMI Category             374 non-null    object \n",
      " 9   Blood Pressure           374 non-null    object \n",
      " 10  Heart Rate               374 non-null    int64  \n",
      " 11  Daily Steps              374 non-null    int64  \n",
      " 12  Sleep Disorder           374 non-null    object \n",
      "dtypes: float64(1), int64(7), object(5)\n",
      "memory usage: 38.1+ KB\n",
      "None\n"
     ]
    }
   ],
   "source": [
    "print(sleep_data.info())"
   ]
  },
  {
   "cell_type": "markdown",
   "metadata": {},
   "source": [
    "## Data exploration"
   ]
  },
  {
   "cell_type": "code",
   "execution_count": 8,
   "metadata": {},
   "outputs": [
    {
     "name": "stdout",
     "output_type": "stream",
     "text": [
      "        Person ID         Age  Sleep Duration  Quality of Sleep  \\\n",
      "count  374.000000  374.000000      374.000000        374.000000   \n",
      "mean   187.500000   42.184492        7.132086          7.312834   \n",
      "std    108.108742    8.673133        0.795657          1.196956   \n",
      "min      1.000000   27.000000        5.800000          4.000000   \n",
      "25%     94.250000   35.250000        6.400000          6.000000   \n",
      "50%    187.500000   43.000000        7.200000          7.000000   \n",
      "75%    280.750000   50.000000        7.800000          8.000000   \n",
      "max    374.000000   59.000000        8.500000          9.000000   \n",
      "\n",
      "       Physical Activity Level  Stress Level  Heart Rate   Daily Steps  \n",
      "count               374.000000    374.000000  374.000000    374.000000  \n",
      "mean                 59.171123      5.385027   70.165775   6816.844920  \n",
      "std                  20.830804      1.774526    4.135676   1617.915679  \n",
      "min                  30.000000      3.000000   65.000000   3000.000000  \n",
      "25%                  45.000000      4.000000   68.000000   5600.000000  \n",
      "50%                  60.000000      5.000000   70.000000   7000.000000  \n",
      "75%                  75.000000      7.000000   72.000000   8000.000000  \n",
      "max                  90.000000      8.000000   86.000000  10000.000000  \n"
     ]
    }
   ],
   "source": [
    "print(sleep_data.describe())"
   ]
  }
 ],
 "metadata": {
  "language_info": {
   "name": "python"
  }
 },
 "nbformat": 4,
 "nbformat_minor": 2
}
